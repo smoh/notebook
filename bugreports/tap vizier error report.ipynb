{
 "cells": [
  {
   "cell_type": "code",
   "execution_count": 1,
   "metadata": {
    "collapsed": true
   },
   "outputs": [],
   "source": [
    "import warnings"
   ]
  },
  {
   "cell_type": "code",
   "execution_count": 2,
   "metadata": {
    "collapsed": true
   },
   "outputs": [],
   "source": [
    "warnings.filterwarnings('ignore')"
   ]
  },
  {
   "cell_type": "code",
   "execution_count": 3,
   "metadata": {
    "collapsed": true
   },
   "outputs": [],
   "source": [
    "from pyvo import dal\n",
    "\n",
    "vizier = dal.TAPService('http://tapvizier.u-strasbg.fr/TAPVizieR/tap')"
   ]
  },
  {
   "cell_type": "code",
   "execution_count": 4,
   "metadata": {
    "collapsed": true
   },
   "outputs": [],
   "source": [
    "table_list = vizier.tables"
   ]
  },
  {
   "cell_type": "code",
   "execution_count": 5,
   "metadata": {},
   "outputs": [
    {
     "name": "stdout",
     "output_type": "stream",
     "text": [
      "number of tables = 37269\n"
     ]
    }
   ],
   "source": [
    "print('number of tables = {:d}'.format(len(table_list)))"
   ]
  },
  {
   "cell_type": "code",
   "execution_count": 6,
   "metadata": {
    "scrolled": true
   },
   "outputs": [
    {
     "data": {
      "text/html": [
       "&lt;Table masked=True length=0&gt;\n",
       "<table id=\"table4491177320\" class=\"table-striped table-bordered table-condensed\">\n",
       "<thead><tr><th>recno</th><th>Seq</th><th>N</th><th>o</th><th>Per</th><th>f_Per</th><th>e_Per</th><th>T0</th><th>n_T0</th><th>e_T0</th><th>f_T0</th><th>e</th><th>f_e</th><th>e_e</th><th>omega</th><th>f_omega</th><th>e_omega</th><th>K1</th><th>u_K1</th><th>f_K1</th><th>e_K1</th><th>K2</th><th>u_K2</th><th>f_K2</th><th>e_K2</th><th>V0</th><th>u_V0</th><th>f_V0</th><th>e_V0</th><th>rms1</th><th>rms2</th><th>o_K1</th><th>o_K2</th><th>Grade</th><th>Ref</th><th>Contr</th></tr></thead>\n",
       "<thead><tr><th></th><th></th><th></th><th></th><th>d</th><th></th><th>d</th><th>d</th><th></th><th>d</th><th></th><th></th><th></th><th></th><th>deg</th><th></th><th>deg</th><th>km / s</th><th></th><th></th><th>km / s</th><th>km / s</th><th></th><th></th><th>km / s</th><th>km / s</th><th></th><th></th><th>km / s</th><th>km / s</th><th>km / s</th><th></th><th></th><th></th><th></th><th></th></tr></thead>\n",
       "<thead><tr><th>int32</th><th>int16</th><th>bytes1</th><th>int16</th><th>float64</th><th>bytes1</th><th>float64</th><th>float64</th><th>bytes1</th><th>float64</th><th>float64</th><th>float64</th><th>bytes1</th><th>float64</th><th>float64</th><th>bytes1</th><th>float64</th><th>float64</th><th>bytes1</th><th>bytes1</th><th>float64</th><th>float64</th><th>bytes1</th><th>bytes1</th><th>float64</th><th>float64</th><th>bytes1</th><th>bytes1</th><th>float64</th><th>float64</th><th>float64</th><th>int16</th><th>int16</th><th>float64</th><th>object</th><th>object</th></tr></thead>\n",
       "</table>"
      ],
      "text/plain": [
       "<Table masked=True length=0>\n",
       "recno  Seq    N      o     Per   f_Per  ...  o_K1  o_K2  Grade   Ref   Contr \n",
       "                            d           ...                                  \n",
       "int32 int16 bytes1 int16 float64 bytes1 ... int16 int16 float64 object object\n",
       "----- ----- ------ ----- ------- ------ ... ----- ----- ------- ------ ------"
      ]
     },
     "execution_count": 6,
     "metadata": {},
     "output_type": "execute_result"
    }
   ],
   "source": [
    "tablename = \"B/sb9/orbits\"\n",
    "schema = vizier.run_sync('select top 0 * from \"{:s}\"'.format(tablename)).table\n",
    "schema"
   ]
  },
  {
   "cell_type": "code",
   "execution_count": 7,
   "metadata": {},
   "outputs": [
    {
     "data": {
      "text/html": [
       "&lt;Table masked=True length=10&gt;\n",
       "<table id=\"table4495023240\" class=\"table-striped table-bordered table-condensed\">\n",
       "<thead><tr><th>Seq</th><th>Grade</th></tr></thead>\n",
       "<thead><tr><th>int16</th><th>float64</th></tr></thead>\n",
       "<tr><td>1</td><td>5.0</td></tr>\n",
       "<tr><td>2</td><td>1.0</td></tr>\n",
       "<tr><td>3</td><td>4.0</td></tr>\n",
       "<tr><td>4</td><td>4.0</td></tr>\n",
       "<tr><td>5</td><td>2.0</td></tr>\n",
       "<tr><td>6</td><td>2.0</td></tr>\n",
       "<tr><td>7</td><td>1.0</td></tr>\n",
       "<tr><td>8</td><td>3.0</td></tr>\n",
       "<tr><td>9</td><td>3.0</td></tr>\n",
       "<tr><td>10</td><td>3.0</td></tr>\n",
       "</table>"
      ],
      "text/plain": [
       "<Table masked=True length=10>\n",
       " Seq   Grade \n",
       "int16 float64\n",
       "----- -------\n",
       "    1     5.0\n",
       "    2     1.0\n",
       "    3     4.0\n",
       "    4     4.0\n",
       "    5     2.0\n",
       "    6     2.0\n",
       "    7     1.0\n",
       "    8     3.0\n",
       "    9     3.0\n",
       "   10     3.0"
      ]
     },
     "execution_count": 7,
     "metadata": {},
     "output_type": "execute_result"
    }
   ],
   "source": [
    "r = vizier.run_sync('select top 10 * from \"{tablename}\" where Grade>4'.format(tablename=tablename))\n",
    "r.table[['Seq', 'Grade']]"
   ]
  },
  {
   "cell_type": "markdown",
   "metadata": {},
   "source": [
    "- Expected: get only rows with 'Grade' column above 4\n",
    "- Outcome: it contains rows with 'Grade' <=4"
   ]
  },
  {
   "cell_type": "code",
   "execution_count": 8,
   "metadata": {},
   "outputs": [
    {
     "name": "stdout",
     "output_type": "stream",
     "text": [
      "COUNT\n",
      "-----\n",
      " 3595\n",
      "CPU times: user 49.4 ms, sys: 7.68 ms, total: 57.1 ms\n",
      "Wall time: 8.35 s\n"
     ]
    }
   ],
   "source": [
    "%%time\n",
    "# Check number of rows in main table\n",
    "count_rows_main = \"\"\"\n",
    "Select count(sb9_main.RAJ2000)\n",
    "from \"B/sb9/main\" sb9_main\n",
    "\"\"\"\n",
    "r = vizier.run_async(count_rows_main)\n",
    "print(r.table)"
   ]
  },
  {
   "cell_type": "code",
   "execution_count": 9,
   "metadata": {},
   "outputs": [
    {
     "name": "stdout",
     "output_type": "stream",
     "text": [
      "COUNT\n",
      "-----\n",
      " 4506\n",
      "CPU times: user 51.5 ms, sys: 8.4 ms, total: 59.9 ms\n",
      "Wall time: 8.37 s\n"
     ]
    }
   ],
   "source": [
    "%%time\n",
    "# Check number of rows in orbits table\n",
    "count_rows_orbits = \"\"\"\n",
    "Select count(sb9_orbits.Seq)\n",
    "from \"B/sb9/orbits\" sb9_orbits\n",
    "\"\"\"\n",
    "r = vizier.run_async(count_rows_orbits)\n",
    "print(r.table)"
   ]
  },
  {
   "cell_type": "code",
   "execution_count": 10,
   "metadata": {},
   "outputs": [
    {
     "name": "stdout",
     "output_type": "stream",
     "text": [
      "MIN\n",
      "---\n",
      "  1\n",
      "CPU times: user 54.2 ms, sys: 8.42 ms, total: 62.6 ms\n",
      "Wall time: 9.91 s\n"
     ]
    }
   ],
   "source": [
    "%%time\n",
    "# I know Seq starts with 1, but check anyway\n",
    "find_min_seq = \"\"\"\n",
    "select min(seq)\n",
    "from \"B/sb9/orbits\"\n",
    "\"\"\"\n",
    "r = vizier.run_async(find_min_seq)\n",
    "print(r.table)"
   ]
  },
  {
   "cell_type": "code",
   "execution_count": 11,
   "metadata": {},
   "outputs": [
    {
     "name": "stdout",
     "output_type": "stream",
     "text": [
      "COUNT\n",
      "-----\n",
      " 3595\n",
      "CPU times: user 51.6 ms, sys: 9.21 ms, total: 60.8 ms\n",
      "Wall time: 9.09 s\n"
     ]
    }
   ],
   "source": [
    "%%time\n",
    "# I know Seq starts with 1, but check anyway\n",
    "count_unique_seq = \"\"\"\n",
    "select count(distinct seq)\n",
    "from \"B/sb9/orbits\"\n",
    "\"\"\"\n",
    "r = vizier.run_async(count_unique_seq)\n",
    "print(r.table)"
   ]
  },
  {
   "cell_type": "code",
   "execution_count": 12,
   "metadata": {},
   "outputs": [
    {
     "name": "stdout",
     "output_type": "stream",
     "text": [
      "seq         ra                 dec        \n",
      "           deg                 deg        \n",
      "--- ------------------ -------------------\n",
      "  1 1.3339166666666664 -5.7076111111111105\n",
      "  2 1.5141249999999997  63.679666666666655\n",
      "  3 2.0504166666666666 -2.4477222222222217\n",
      "  4 2.0969166666666665   29.09044444444444\n",
      "  5 2.2506666666666666  28.247527777777773\n",
      "  6 2.6752916666666664   54.89149999999999\n",
      "  7 2.8532499999999996 -11.478638888888888\n",
      "  8  2.904791666666666  58.211833333333324\n",
      "  9  3.303041666666666   62.04088888888888\n",
      " 10  3.745166666666666    8.82097222222222\n",
      "...                ...                 ...\n",
      "  0                 --                  --\n",
      "  0                 --                  --\n",
      "  0                 --                  --\n",
      "  0                 --                  --\n",
      "  0                 --                  --\n",
      "  0                 --                  --\n",
      "  0                 --                  --\n",
      "  0                 --                  --\n",
      "  0                 --                  --\n",
      "  0                 --                  --\n",
      "Length = 4506 rows\n",
      "CPU times: user 256 ms, sys: 14.6 ms, total: 271 ms\n",
      "Wall time: 9.62 s\n"
     ]
    }
   ],
   "source": [
    "%%time\n",
    "query_join_sb9 = \"\"\"\n",
    "SELECT sb9_main.Seq as seq, sb9_main.RAJ2000 as ra, sb9_main.DEJ2000 as dec\n",
    "FROM \"B/sb9/orbits\" as sb9_orbits\n",
    "LEFT JOIN \"B/sb9/main\" as sb9_main\n",
    "ON (sb9_orbits.Seq = sb9_main.Seq) and (sb9_orbits.grade>=4)\n",
    "\"\"\"\n",
    "# because Seq is unique for every row of sb9_orbits,\n",
    "# I only expect at most the same number of rows as sb_orbits from this LEFT JOIN\n",
    "r = vizier.run_async(query_join_sb9)\n",
    "print(r.table)"
   ]
  },
  {
   "cell_type": "markdown",
   "metadata": {},
   "source": [
    "* Expected: subset of rows from orbits joined with main\n",
    "* Outcome:\n",
    "    - not filtered on Grade\n",
    "    - what are all those rows with Seq=0?"
   ]
  },
  {
   "cell_type": "code",
   "execution_count": 13,
   "metadata": {},
   "outputs": [
    {
     "name": "stdout",
     "output_type": "stream",
     "text": [
      "CPU times: user 163 ms, sys: 12.4 ms, total: 176 ms\n",
      "Wall time: 11.1 s\n"
     ]
    }
   ],
   "source": [
    "%%time\n",
    "query = \"\"\"\n",
    "select sub.seq, sub.ra, sub.dec\n",
    "from (\n",
    "    SELECT sb9_main.Seq as seq, sb9_main.RAJ2000 as ra, sb9_main.DEJ2000 as dec\n",
    "    FROM \"B/sb9/orbits\" as sb9_orbits\n",
    "    LEFT JOIN \"B/sb9/main\" as sb9_main\n",
    "    ON (sb9_orbits.Seq = sb9_main.Seq) and (sb9_orbits.grade>=4)\n",
    "    ) sub\n",
    "\"\"\"\n",
    "r = vizier.run_async(query)"
   ]
  },
  {
   "cell_type": "code",
   "execution_count": 14,
   "metadata": {},
   "outputs": [
    {
     "data": {
      "text/html": [
       "&lt;Table masked=True length=4506&gt;\n",
       "<table id=\"table4492069912\" class=\"table-striped table-bordered table-condensed\">\n",
       "<thead><tr><th>seq</th><th>ra</th><th>dec</th></tr></thead>\n",
       "<thead><tr><th></th><th>deg</th><th>deg</th></tr></thead>\n",
       "<thead><tr><th>int16</th><th>float64</th><th>float64</th></tr></thead>\n",
       "<tr><td>1</td><td>3.705324074074073e-07</td><td>-1.5854475308641972e-06</td></tr>\n",
       "<tr><td>2</td><td>4.2059027777777766e-07</td><td>1.768879629629629e-05</td></tr>\n",
       "<tr><td>3</td><td>5.69560185185185e-07</td><td>-6.799228395061727e-07</td></tr>\n",
       "<tr><td>4</td><td>5.824768518518517e-07</td><td>8.080679012345676e-06</td></tr>\n",
       "<tr><td>5</td><td>6.25185185185185e-07</td><td>7.846535493827158e-06</td></tr>\n",
       "<tr><td>6</td><td>7.431365740740739e-07</td><td>1.5247638888888884e-05</td></tr>\n",
       "<tr><td>7</td><td>7.925694444444442e-07</td><td>-3.1885108024691348e-06</td></tr>\n",
       "<tr><td>8</td><td>8.068865740740738e-07</td><td>1.6169953703703698e-05</td></tr>\n",
       "<tr><td>9</td><td>9.175115740740738e-07</td><td>1.7233580246913576e-05</td></tr>\n",
       "<tr><td>...</td><td>...</td><td>...</td></tr>\n",
       "<tr><td>0</td><td>--</td><td>--</td></tr>\n",
       "<tr><td>0</td><td>--</td><td>--</td></tr>\n",
       "<tr><td>0</td><td>--</td><td>--</td></tr>\n",
       "<tr><td>0</td><td>--</td><td>--</td></tr>\n",
       "<tr><td>0</td><td>--</td><td>--</td></tr>\n",
       "<tr><td>0</td><td>--</td><td>--</td></tr>\n",
       "<tr><td>0</td><td>--</td><td>--</td></tr>\n",
       "<tr><td>0</td><td>--</td><td>--</td></tr>\n",
       "<tr><td>0</td><td>--</td><td>--</td></tr>\n",
       "<tr><td>0</td><td>--</td><td>--</td></tr>\n",
       "</table>"
      ],
      "text/plain": [
       "<Table masked=True length=4506>\n",
       " seq            ra                     dec          \n",
       "               deg                     deg          \n",
       "int16        float64                 float64        \n",
       "----- ---------------------- -----------------------\n",
       "    1  3.705324074074073e-07 -1.5854475308641972e-06\n",
       "    2 4.2059027777777766e-07   1.768879629629629e-05\n",
       "    3   5.69560185185185e-07  -6.799228395061727e-07\n",
       "    4  5.824768518518517e-07   8.080679012345676e-06\n",
       "    5   6.25185185185185e-07   7.846535493827158e-06\n",
       "    6  7.431365740740739e-07  1.5247638888888884e-05\n",
       "    7  7.925694444444442e-07 -3.1885108024691348e-06\n",
       "    8  8.068865740740738e-07  1.6169953703703698e-05\n",
       "    9  9.175115740740738e-07  1.7233580246913576e-05\n",
       "  ...                    ...                     ...\n",
       "    0                     --                      --\n",
       "    0                     --                      --\n",
       "    0                     --                      --\n",
       "    0                     --                      --\n",
       "    0                     --                      --\n",
       "    0                     --                      --\n",
       "    0                     --                      --\n",
       "    0                     --                      --\n",
       "    0                     --                      --\n",
       "    0                     --                      --"
      ]
     },
     "execution_count": 14,
     "metadata": {},
     "output_type": "execute_result"
    }
   ],
   "source": [
    "r.table"
   ]
  },
  {
   "cell_type": "markdown",
   "metadata": {},
   "source": [
    "I'm now just putting the exact same query as a subquery\n",
    "* Expected: I at least get the same table as the previous query.\n",
    "* Outcome: RA, Dec values does not make sense"
   ]
  },
  {
   "cell_type": "code",
   "execution_count": 15,
   "metadata": {},
   "outputs": [
    {
     "ename": "DALQueryError",
     "evalue": "Error while processing the ADQL query of the job 1523460774310 !",
     "output_type": "error",
     "traceback": [
      "\u001b[0;31m---------------------------------------------------------------------------\u001b[0m",
      "\u001b[0;31mDALQueryError\u001b[0m                             Traceback (most recent call last)",
      "\u001b[0;32m<timed exec>\u001b[0m in \u001b[0;36m<module>\u001b[0;34m()\u001b[0m\n",
      "\u001b[0;32m~/anaconda2/envs/research/lib/python3.6/site-packages/pyvo/dal/tap.py\u001b[0m in \u001b[0;36mrun_async\u001b[0;34m(self, query, language, maxrec, uploads, **keywords)\u001b[0m\n\u001b[1;32m    224\u001b[0m             self.baseurl, query, language, maxrec, uploads, **keywords)\n\u001b[1;32m    225\u001b[0m         \u001b[0mjob\u001b[0m \u001b[0;34m=\u001b[0m \u001b[0mjob\u001b[0m\u001b[0;34m.\u001b[0m\u001b[0mrun\u001b[0m\u001b[0;34m(\u001b[0m\u001b[0;34m)\u001b[0m\u001b[0;34m.\u001b[0m\u001b[0mwait\u001b[0m\u001b[0;34m(\u001b[0m\u001b[0;34m)\u001b[0m\u001b[0;34m\u001b[0m\u001b[0m\n\u001b[0;32m--> 226\u001b[0;31m         \u001b[0mjob\u001b[0m\u001b[0;34m.\u001b[0m\u001b[0mraise_if_error\u001b[0m\u001b[0;34m(\u001b[0m\u001b[0;34m)\u001b[0m\u001b[0;34m\u001b[0m\u001b[0m\n\u001b[0m\u001b[1;32m    227\u001b[0m         \u001b[0mresult\u001b[0m \u001b[0;34m=\u001b[0m \u001b[0mjob\u001b[0m\u001b[0;34m.\u001b[0m\u001b[0mfetch_result\u001b[0m\u001b[0;34m(\u001b[0m\u001b[0;34m)\u001b[0m\u001b[0;34m\u001b[0m\u001b[0m\n\u001b[1;32m    228\u001b[0m         \u001b[0mjob\u001b[0m\u001b[0;34m.\u001b[0m\u001b[0mdelete\u001b[0m\u001b[0;34m(\u001b[0m\u001b[0;34m)\u001b[0m\u001b[0;34m\u001b[0m\u001b[0m\n",
      "\u001b[0;32m~/anaconda2/envs/research/lib/python3.6/site-packages/pyvo/dal/tap.py\u001b[0m in \u001b[0;36mraise_if_error\u001b[0;34m(self)\u001b[0m\n\u001b[1;32m    594\u001b[0m             raise DALQueryError(\n\u001b[1;32m    595\u001b[0m                 \u001b[0mself\u001b[0m\u001b[0;34m.\u001b[0m\u001b[0m_job\u001b[0m\u001b[0;34m.\u001b[0m\u001b[0mget\u001b[0m\u001b[0;34m(\u001b[0m\u001b[0;34m\"message\"\u001b[0m\u001b[0;34m,\u001b[0m \u001b[0;34m\"Unknown Query Error\"\u001b[0m\u001b[0;34m)\u001b[0m\u001b[0;34m,\u001b[0m\u001b[0;34m\u001b[0m\u001b[0m\n\u001b[0;32m--> 596\u001b[0;31m                 self.phase, self.url)\n\u001b[0m\u001b[1;32m    597\u001b[0m \u001b[0;34m\u001b[0m\u001b[0m\n\u001b[1;32m    598\u001b[0m     \u001b[0;32mdef\u001b[0m \u001b[0mfetch_result\u001b[0m\u001b[0;34m(\u001b[0m\u001b[0mself\u001b[0m\u001b[0;34m)\u001b[0m\u001b[0;34m:\u001b[0m\u001b[0;34m\u001b[0m\u001b[0m\n",
      "\u001b[0;31mDALQueryError\u001b[0m: Error while processing the ADQL query of the job 1523460774310 !"
     ]
    }
   ],
   "source": [
    "%%time\n",
    "query = \"\"\"\n",
    "SELECT\n",
    "  \"sb9\".*, tgas.source_id, tgas.astrometric_excess_noise, tgas.astrometric_excess_noise_sig\n",
    "FROM\n",
    "  (\n",
    "    SELECT sb9_main.Seq as seq, sb9_main.RAJ2000 as ra, sb9_main.DEJ2000 as dec\n",
    "    FROM \"B/sb9/orbits\" as sb9_orbits\n",
    "    LEFT JOIN \"B/sb9/main\" as sb9_main\n",
    "    ON sb9_main.Seq = sb9_orbits.Seq and sb9_orbits.grade>=4\n",
    "  ) sb9, \"I/337/tgas\" tgas\n",
    "WHERE\n",
    "  1=CONTAINS(POINT('ICRS', sb9.ra, sb9.dec), CIRCLE('ICRS', tgas.ra, tgas.dec, 5/3600))\n",
    "\"\"\"\n",
    "r = vizier.run_async(query)"
   ]
  },
  {
   "cell_type": "markdown",
   "metadata": {},
   "source": [
    "I checked my query with CDS ADQL validator, and it returns 'Correct'.\n",
    "* URL: http://cdsportal.u-strasbg.fr/adqltuto/adqlvalidate"
   ]
  },
  {
   "cell_type": "code",
   "execution_count": null,
   "metadata": {
    "collapsed": true
   },
   "outputs": [],
   "source": []
  }
 ],
 "metadata": {
  "kernelspec": {
   "display_name": "Python 3",
   "language": "python",
   "name": "python3"
  },
  "language_info": {
   "codemirror_mode": {
    "name": "ipython",
    "version": 3
   },
   "file_extension": ".py",
   "mimetype": "text/x-python",
   "name": "python",
   "nbconvert_exporter": "python",
   "pygments_lexer": "ipython3",
   "version": "3.6.2"
  },
  "toc": {
   "colors": {
    "hover_highlight": "#DAA520",
    "running_highlight": "#FF0000",
    "selected_highlight": "#FFD700"
   },
   "moveMenuLeft": true,
   "nav_menu": {
    "height": "12px",
    "width": "252px"
   },
   "navigate_menu": true,
   "number_sections": true,
   "sideBar": true,
   "threshold": 4,
   "toc_cell": false,
   "toc_section_display": "block",
   "toc_window_display": false
  }
 },
 "nbformat": 4,
 "nbformat_minor": 2
}
