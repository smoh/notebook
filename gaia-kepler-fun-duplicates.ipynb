{
 "cells": [
  {
   "cell_type": "code",
   "execution_count": 1,
   "metadata": {
    "collapsed": true
   },
   "outputs": [],
   "source": [
    "%config InlineBackend.figure_format = 'retina'\n",
    "%matplotlib inline\n",
    "\n",
    "import matplotlib.pyplot as plt\n",
    "from matplotlib import colors\n",
    "import pandas as pd\n",
    "import numpy as np\n",
    "import palettable\n",
    "\n",
    "from astropy.table import Table\n",
    "import astropy.units as u\n",
    "import astropy.coordinates as coords"
   ]
  },
  {
   "cell_type": "code",
   "execution_count": null,
   "metadata": {
    "collapsed": true
   },
   "outputs": [],
   "source": [
    "# !wget https://www.dropbox.com/s/pf1bw7xcnk61p73/k2_dr2_1arcsec.fits"
   ]
  },
  {
   "cell_type": "code",
   "execution_count": 2,
   "metadata": {
    "collapsed": true
   },
   "outputs": [],
   "source": [
    "k2 = Table.read('k2_dr2_1arcsec.fits')"
   ]
  },
  {
   "cell_type": "code",
   "execution_count": 3,
   "metadata": {
    "collapsed": true
   },
   "outputs": [],
   "source": [
    "dfk2 = k2.to_pandas()"
   ]
  },
  {
   "cell_type": "code",
   "execution_count": 4,
   "metadata": {
    "collapsed": true
   },
   "outputs": [],
   "source": [
    "dfk2['designation'] = dfk2['designation'].str.decode('utf-8')"
   ]
  },
  {
   "cell_type": "code",
   "execution_count": 5,
   "metadata": {},
   "outputs": [
    {
     "data": {
      "text/plain": [
       "288910"
      ]
     },
     "execution_count": 5,
     "metadata": {},
     "output_type": "execute_result"
    }
   ],
   "source": [
    "len(dfk2)"
   ]
  },
  {
   "cell_type": "code",
   "execution_count": 6,
   "metadata": {},
   "outputs": [
    {
     "data": {
      "text/plain": [
       "246730"
      ]
     },
     "execution_count": 6,
     "metadata": {},
     "output_type": "execute_result"
    }
   ],
   "source": [
    "dfk2.designation.unique().size"
   ]
  },
  {
   "cell_type": "code",
   "execution_count": 41,
   "metadata": {},
   "outputs": [
    {
     "data": {
      "text/plain": [
       "246017"
      ]
     },
     "execution_count": 41,
     "metadata": {},
     "output_type": "execute_result"
    }
   ],
   "source": [
    "dfk2.epic_number.unique().size"
   ]
  },
  {
   "cell_type": "code",
   "execution_count": 50,
   "metadata": {},
   "outputs": [
    {
     "data": {
      "text/plain": [
       "designation                  epic_number  k2_campaign_str\n",
       "Gaia DR2 658318744452496768  211770567.0  b'16'              8\n",
       "Gaia DR2 604941883034049280  211431574.0  b'5'               8\n",
       "Gaia DR2 602116687912271616  211419495.0  b'16'              8\n",
       "                                          b'5'               8\n",
       "Gaia DR2 658318744452496768  211770567.0  b'5'               8\n",
       "Gaia DR2 660409908193185024  211923589.0  b'16'              8\n",
       "                                          b'5'               8\n",
       "Gaia DR2 664293387559886464  211970874.0  b'16'              8\n",
       "                                          b'5'               8\n",
       "Gaia DR2 660409908193185024  211923593.0  b'16'              8\n",
       "                                          b'5'               8\n",
       "Gaia DR2 661036840275967744  211934221.0  b'5'               8\n",
       "Gaia DR2 604941883034049280  211431572.0  b'16'              8\n",
       "                                          b'5'               8\n",
       "                             211431574.0  b'16'              8\n",
       "Gaia DR2 661036840275967744  211934221.0  b'16'              8\n",
       "Gaia DR2 658318744451516160  211770584.0  b'5'               8\n",
       "                                          b'16'              8\n",
       "Gaia DR2 603117484006383488  211504760.0  b'16'              6\n",
       "Gaia DR2 660187982939370240  228682435.0  b'16'              6\n",
       "dtype: int64"
      ]
     },
     "execution_count": 50,
     "metadata": {},
     "output_type": "execute_result"
    }
   ],
   "source": [
    "dfk2.groupby(('designation','epic_number','k2_campaign_str')).size().sort_values(ascending=False).head(20)"
   ]
  },
  {
   "cell_type": "code",
   "execution_count": 7,
   "metadata": {},
   "outputs": [
    {
     "data": {
      "text/plain": [
       "Gaia DR2 604941883034049280    32\n",
       "Gaia DR2 660409908193185024    32\n",
       "Gaia DR2 664293387559886464    16\n",
       "Gaia DR2 661036840275967744    16\n",
       "Gaia DR2 602116687912271616    16\n",
       "Name: designation, dtype: int64"
      ]
     },
     "execution_count": 7,
     "metadata": {},
     "output_type": "execute_result"
    }
   ],
   "source": [
    "dfk2.designation.value_counts().head()"
   ]
  },
  {
   "cell_type": "code",
   "execution_count": 8,
   "metadata": {
    "collapsed": true
   },
   "outputs": [],
   "source": [
    "wth = dfk2.groupby('designation').get_group('Gaia DR2 604941883034049280')"
   ]
  },
  {
   "cell_type": "code",
   "execution_count": 9,
   "metadata": {
    "collapsed": true
   },
   "outputs": [],
   "source": [
    "kepcols = [\n",
    "    'epic_number',\n",
    "    'tm_name',\n",
    "    'k2_campaign_str',\n",
    "    'k2_type',\n",
    "    'ra_kepler',\n",
    "    'dec_kepler',\n",
    "    'k2_lcflag',\n",
    "    'k2_scflag',\n",
    "    'k2_teff',\n",
    "    'k2_tefferr1',\n",
    "    'k2_tefferr2',\n",
    "    'k2_logg',\n",
    "    'k2_loggerr1',\n",
    "    'k2_loggerr2',\n",
    "    'k2_metfe',\n",
    "    'k2_metfeerr1',\n",
    "    'k2_metfeerr2',\n",
    "    'k2_rad',\n",
    "    'k2_raderr1',\n",
    "    'k2_raderr2',\n",
    "    'k2_mass',\n",
    "    'k2_masserr1',\n",
    "    'k2_masserr2',\n",
    "    'k2c_disp',\n",
    "    'k2c_note',\n",
    "    'kepler_gaia_ang_dist']"
   ]
  },
  {
   "cell_type": "code",
   "execution_count": 11,
   "metadata": {},
   "outputs": [
    {
     "data": {
      "text/plain": [
       "epic_number             2\n",
       "tm_name                 2\n",
       "k2_campaign_str         2\n",
       "k2_type                 1\n",
       "ra_kepler               2\n",
       "dec_kepler              2\n",
       "k2_lcflag               1\n",
       "k2_scflag               1\n",
       "k2_teff                 2\n",
       "k2_tefferr1             2\n",
       "k2_tefferr2             2\n",
       "k2_logg                 2\n",
       "k2_loggerr1             2\n",
       "k2_loggerr2             2\n",
       "k2_metfe                2\n",
       "k2_metfeerr1            2\n",
       "k2_metfeerr2            2\n",
       "k2_rad                  2\n",
       "k2_raderr1              2\n",
       "k2_raderr2              2\n",
       "k2_mass                 2\n",
       "k2_masserr1             2\n",
       "k2_masserr2             2\n",
       "k2c_disp                1\n",
       "k2c_note                1\n",
       "kepler_gaia_ang_dist    2\n",
       "dtype: int64"
      ]
     },
     "execution_count": 11,
     "metadata": {},
     "output_type": "execute_result"
    }
   ],
   "source": [
    "# count unique values in each column\n",
    "wth[kepcols]\\\n",
    "    .apply(lambda x:x.unique().size)"
   ]
  },
  {
   "cell_type": "code",
   "execution_count": 39,
   "metadata": {},
   "outputs": [
    {
     "data": {
      "text/plain": [
       "array([ True,  True,  True,  True,  True,  True,  True,  True,  True,\n",
       "        True,  True,  True,  True,  True,  True,  True,  True,  True,\n",
       "        True,  True,  True,  True,  True,  True,  True,  True,  True,\n",
       "        True,  True,  True,  True,  True,  True,  True,  True,  True,\n",
       "        True,  True,  True,  True,  True,  True, False,  True,  True,\n",
       "        True,  True,  True,  True,  True,  True,  True,  True,  True,\n",
       "        True,  True,  True,  True,  True,  True,  True,  True,  True,\n",
       "        True,  True,  True,  True,  True,  True,  True,  True,  True,\n",
       "        True,  True,  True,  True,  True, False, False, False, False,\n",
       "       False, False, False, False, False, False, False, False, False,\n",
       "       False, False,  True,  True,  True])"
      ]
     },
     "execution_count": 39,
     "metadata": {},
     "output_type": "execute_result"
    }
   ],
   "source": [
    "(wth.iloc[1].values == wth.iloc[2].values)"
   ]
  },
  {
   "cell_type": "code",
   "execution_count": 40,
   "metadata": {},
   "outputs": [
    {
     "data": {
      "text/plain": [
       "array([nan, nan, nan, nan, nan, nan, nan, nan, nan, nan, nan, nan, nan,\n",
       "       nan, nan, nan], dtype=object)"
      ]
     },
     "execution_count": 40,
     "metadata": {},
     "output_type": "execute_result"
    }
   ],
   "source": [
    "# nan == nan is False\n",
    "wth.iloc[1].values[np.where(~(wth.iloc[1].values == wth.iloc[2].values))[0]]"
   ]
  }
 ],
 "metadata": {
  "kernelspec": {
   "display_name": "Python 3",
   "language": "python",
   "name": "python3"
  },
  "language_info": {
   "codemirror_mode": {
    "name": "ipython",
    "version": 3
   },
   "file_extension": ".py",
   "mimetype": "text/x-python",
   "name": "python",
   "nbconvert_exporter": "python",
   "pygments_lexer": "ipython3",
   "version": "3.6.2"
  },
  "toc": {
   "colors": {
    "hover_highlight": "#DAA520",
    "running_highlight": "#FF0000",
    "selected_highlight": "#FFD700"
   },
   "moveMenuLeft": true,
   "nav_menu": {
    "height": "12px",
    "width": "252px"
   },
   "navigate_menu": true,
   "number_sections": true,
   "sideBar": true,
   "threshold": 4,
   "toc_cell": false,
   "toc_section_display": "block",
   "toc_window_display": false
  }
 },
 "nbformat": 4,
 "nbformat_minor": 2
}
